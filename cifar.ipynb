{
 "cells": [
  {
   "cell_type": "markdown",
   "metadata": {},
   "source": [
    "# Predicting Images on CIFAR-10\n",
    "\n",
    "* Author: Jay Huang\n",
    "* E-mail: askjayhuang at gmail dot com\n",
    "* GitHub: https://github.com/jayhuang1\n",
    "* Created: 2018-01-01\n",
    "\n",
    "This workshop predicts a class of an image using image recognition on the CIFAR-10 dataset. The consists of 60,000 32x32 color images containing one of 10 object classes, with 6000 images per class. The training set contains 50,000 images while the test set contains 10,000 images. The 10 object classes are: airplane, automobile, bird, cat, deer, dog, frog, horse, ship, and truck.\n",
    "\n",
    "Classification machine learning algorithms such as Random Forest and  Naive Bayes will first be used. We will then use convolutional neural networks to see if we can get better results."
   ]
  },
  {
   "cell_type": "markdown",
   "metadata": {},
   "source": [
    "## Data Ingestion\n",
    "\n",
    "The CIFAR-10 data was ingested from the Keras dataset module:"
   ]
  },
  {
   "cell_type": "code",
   "execution_count": 28,
   "metadata": {
    "scrolled": true
   },
   "outputs": [],
   "source": [
    "from keras.datasets import cifar10\n",
    "\n",
    "(X_train, y_train), (X_test, y_test) = cifar10.load_data()"
   ]
  },
  {
   "cell_type": "markdown",
   "metadata": {},
   "source": [
    "Global constants that describe the dataset are set:"
   ]
  },
  {
   "cell_type": "code",
   "execution_count": 2,
   "metadata": {},
   "outputs": [],
   "source": [
    "NUM_CLASSES = 10\n",
    "IMG_DIM = 32\n",
    "LABEL_NAMES = ['airplane', 'automobile', 'bird', 'cat',\n",
    "               'deer', 'dog', 'frog', 'horse', 'ship', 'truck']"
   ]
  },
  {
   "cell_type": "markdown",
   "metadata": {},
   "source": [
    "## Data Wrangling"
   ]
  },
  {
   "cell_type": "markdown",
   "metadata": {},
   "source": [
    "For our classification implementation, the fit function in scikit-learn only accepts 2D arrays. Therefore, we need to reshape our data we downloaded from Keras from a 4D array into a 2D array:"
   ]
  },
  {
   "cell_type": "code",
   "execution_count": 15,
   "metadata": {},
   "outputs": [],
   "source": [
    "nsamples, nx, ny, nz = X_train.shape\n",
    "X_train_cl = X_train.reshape((nsamples, nx * ny * nz))\n",
    "nsamples, nx, ny, nz = X_test.shape\n",
    "X_test_cl = X_test.reshape((nsamples, nx * ny * nz))\n",
    "y_train_cl = y_train\n",
    "y_test_cl = y_test"
   ]
  },
  {
   "cell_type": "markdown",
   "metadata": {},
   "source": [
    "For our neural networks implementation, the input data is standardized and the label data needs to be converted into a category matrix:"
   ]
  },
  {
   "cell_type": "code",
   "execution_count": 29,
   "metadata": {},
   "outputs": [],
   "source": [
    "import keras\n",
    "\n",
    "X_train_nn = X_train.astype('float32')\n",
    "X_test_nn = X_test.astype('float32')\n",
    "X_train_nn /= 255\n",
    "X_test_nn /= 255\n",
    "y_train_nn = keras.utils.to_categorical(y_train, NUM_CLASSES)\n",
    "y_test_nn = keras.utils.to_categorical(y_test, NUM_CLASSES)"
   ]
  },
  {
   "cell_type": "markdown",
   "metadata": {},
   "source": [
    "## Model Building\n",
    "\n",
    "Let's first predict the class of an image by using conventional classification algorithms:"
   ]
  },
  {
   "cell_type": "code",
   "execution_count": 40,
   "metadata": {},
   "outputs": [],
   "source": [
    "from sklearn.metrics import classification_report\n",
    "import time\n",
    "\n",
    "def fit_model():\n",
    "    # Train model\n",
    "    start = time.time()\n",
    "    model.fit(X_train_cl, y_train_cl)\n",
    "    duration = time.time() - start\n",
    "\n",
    "    print(\"{:25} fit in: {:0.2f} seconds\".format(model.__class__.__name__, duration))\n",
    "\n",
    "    # Test model\n",
    "    y_pred = model.predict(X_test_cl)\n",
    "\n",
    "    print(classification_report(y_test_cl, y_pred, target_names=LABEL_NAMES))\n",
    "    print('Mean accuracy:', model.score(X_test_cl, y_test_cl))"
   ]
  },
  {
   "cell_type": "code",
   "execution_count": 41,
   "metadata": {},
   "outputs": [
    {
     "name": "stderr",
     "output_type": "stream",
     "text": [
      "/Library/Frameworks/Python.framework/Versions/3.6/lib/python3.6/site-packages/sklearn/linear_model/stochastic_gradient.py:128: FutureWarning: max_iter and tol parameters have been added in <class 'sklearn.linear_model.perceptron.Perceptron'> in 0.19. If both are left unset, they default to max_iter=5 and tol=None. If tol is not None, max_iter defaults to max_iter=1000. From 0.21, default max_iter will be 1000, and default tol will be 1e-3.\n",
      "  \"and default tol will be 1e-3.\" % type(self), FutureWarning)\n",
      "/Library/Frameworks/Python.framework/Versions/3.6/lib/python3.6/site-packages/sklearn/utils/validation.py:578: DataConversionWarning: A column-vector y was passed when a 1d array was expected. Please change the shape of y to (n_samples, ), for example using ravel().\n",
      "  y = column_or_1d(y, warn=True)\n"
     ]
    },
    {
     "name": "stdout",
     "output_type": "stream",
     "text": [
      "Perceptron                fit in: 14.89 seconds\n",
      "             precision    recall  f1-score   support\n",
      "\n",
      "   airplane       0.49      0.19      0.27      1000\n",
      " automobile       0.95      0.02      0.04      1000\n",
      "       bird       0.28      0.09      0.14      1000\n",
      "        cat       0.18      0.46      0.26      1000\n",
      "       deer       0.22      0.45      0.30      1000\n",
      "        dog       0.31      0.06      0.10      1000\n",
      "       frog       0.38      0.34      0.36      1000\n",
      "      horse       0.52      0.20      0.29      1000\n",
      "       ship       0.53      0.01      0.02      1000\n",
      "      truck       0.24      0.77      0.36      1000\n",
      "\n",
      "avg / total       0.41      0.26      0.21     10000\n",
      "\n",
      "Mean accuracy: 0.2586\n"
     ]
    },
    {
     "name": "stderr",
     "output_type": "stream",
     "text": [
      "/Library/Frameworks/Python.framework/Versions/3.6/lib/python3.6/site-packages/ipykernel_launcher.py:7: DataConversionWarning: A column-vector y was passed when a 1d array was expected. Please change the shape of y to (n_samples,), for example using ravel().\n",
      "  import sys\n"
     ]
    },
    {
     "name": "stdout",
     "output_type": "stream",
     "text": [
      "RandomForestClassifier    fit in: 26.73 seconds\n",
      "             precision    recall  f1-score   support\n",
      "\n",
      "   airplane       0.38      0.54      0.45      1000\n",
      " automobile       0.36      0.43      0.39      1000\n",
      "       bird       0.24      0.31      0.27      1000\n",
      "        cat       0.25      0.25      0.25      1000\n",
      "       deer       0.30      0.29      0.30      1000\n",
      "        dog       0.34      0.29      0.31      1000\n",
      "       frog       0.41      0.35      0.38      1000\n",
      "      horse       0.43      0.31      0.36      1000\n",
      "       ship       0.52      0.46      0.49      1000\n",
      "      truck       0.44      0.36      0.39      1000\n",
      "\n",
      "avg / total       0.37      0.36      0.36     10000\n",
      "\n",
      "Mean accuracy: 0.3588\n"
     ]
    },
    {
     "name": "stderr",
     "output_type": "stream",
     "text": [
      "/Library/Frameworks/Python.framework/Versions/3.6/lib/python3.6/site-packages/sklearn/utils/validation.py:578: DataConversionWarning: A column-vector y was passed when a 1d array was expected. Please change the shape of y to (n_samples, ), for example using ravel().\n",
      "  y = column_or_1d(y, warn=True)\n"
     ]
    },
    {
     "name": "stdout",
     "output_type": "stream",
     "text": [
      "GaussianNB                fit in: 2.82 seconds\n",
      "             precision    recall  f1-score   support\n",
      "\n",
      "   airplane       0.27      0.49      0.35      1000\n",
      " automobile       0.41      0.17      0.24      1000\n",
      "       bird       0.19      0.08      0.12      1000\n",
      "        cat       0.25      0.08      0.12      1000\n",
      "       deer       0.24      0.42      0.30      1000\n",
      "        dog       0.31      0.26      0.29      1000\n",
      "       frog       0.25      0.47      0.33      1000\n",
      "      horse       0.42      0.13      0.20      1000\n",
      "       ship       0.39      0.47      0.42      1000\n",
      "      truck       0.38      0.41      0.39      1000\n",
      "\n",
      "avg / total       0.31      0.30      0.28     10000\n",
      "\n",
      "Mean accuracy: 0.2976\n",
      "MultinomialNB             fit in: 1.14 seconds\n",
      "             precision    recall  f1-score   support\n",
      "\n",
      "   airplane       0.43      0.38      0.40      1000\n",
      " automobile       0.33      0.18      0.23      1000\n",
      "       bird       0.31      0.14      0.20      1000\n",
      "        cat       0.26      0.10      0.14      1000\n",
      "       deer       0.28      0.18      0.22      1000\n",
      "        dog       0.22      0.43      0.29      1000\n",
      "       frog       0.33      0.33      0.33      1000\n",
      "      horse       0.23      0.26      0.24      1000\n",
      "       ship       0.34      0.44      0.38      1000\n",
      "      truck       0.29      0.51      0.37      1000\n",
      "\n",
      "avg / total       0.30      0.29      0.28     10000\n",
      "\n",
      "Mean accuracy: 0.2933\n"
     ]
    }
   ],
   "source": [
    "from sklearn.linear_model import Perceptron\n",
    "from sklearn.ensemble import RandomForestClassifier\n",
    "from sklearn.naive_bayes import GaussianNB, MultinomialNB\n",
    "\n",
    "models = (Perceptron(),\n",
    "          RandomForestClassifier(),\n",
    "          GaussianNB(),\n",
    "          MultinomialNB(),\n",
    "         )\n",
    "\n",
    "for model in models:\n",
    "    fit_model()"
   ]
  },
  {
   "cell_type": "markdown",
   "metadata": {},
   "source": [
    "Let's then build a basic neural network model using Keras:"
   ]
  },
  {
   "cell_type": "code",
   "execution_count": 31,
   "metadata": {},
   "outputs": [],
   "source": [
    "BATCH_SIZE = 32\n",
    "EPOCHS = 30\n",
    "PATIENCE = 2"
   ]
  },
  {
   "cell_type": "code",
   "execution_count": 33,
   "metadata": {},
   "outputs": [
    {
     "name": "stdout",
     "output_type": "stream",
     "text": [
      "_________________________________________________________________\n",
      "Layer (type)                 Output Shape              Param #   \n",
      "=================================================================\n",
      "conv2d_17 (Conv2D)           (None, 32, 32, 32)        896       \n",
      "_________________________________________________________________\n",
      "activation_21 (Activation)   (None, 32, 32, 32)        0         \n",
      "_________________________________________________________________\n",
      "conv2d_18 (Conv2D)           (None, 32, 30, 30)        9248      \n",
      "_________________________________________________________________\n",
      "activation_22 (Activation)   (None, 32, 30, 30)        0         \n",
      "_________________________________________________________________\n",
      "max_pooling2d_9 (MaxPooling2 (None, 32, 15, 15)        0         \n",
      "_________________________________________________________________\n",
      "dropout_7 (Dropout)          (None, 32, 15, 15)        0         \n",
      "_________________________________________________________________\n",
      "conv2d_19 (Conv2D)           (None, 64, 15, 15)        18496     \n",
      "_________________________________________________________________\n",
      "activation_23 (Activation)   (None, 64, 15, 15)        0         \n",
      "_________________________________________________________________\n",
      "conv2d_20 (Conv2D)           (None, 64, 13, 13)        36928     \n",
      "_________________________________________________________________\n",
      "activation_24 (Activation)   (None, 64, 13, 13)        0         \n",
      "_________________________________________________________________\n",
      "max_pooling2d_10 (MaxPooling (None, 64, 6, 6)          0         \n",
      "_________________________________________________________________\n",
      "dropout_8 (Dropout)          (None, 64, 6, 6)          0         \n",
      "_________________________________________________________________\n",
      "flatten_3 (Flatten)          (None, 2304)              0         \n",
      "_________________________________________________________________\n",
      "dense_5 (Dense)              (None, 512)               1180160   \n",
      "_________________________________________________________________\n",
      "activation_25 (Activation)   (None, 512)               0         \n",
      "_________________________________________________________________\n",
      "dropout_9 (Dropout)          (None, 512)               0         \n",
      "_________________________________________________________________\n",
      "dense_6 (Dense)              (None, 10)                5130      \n",
      "_________________________________________________________________\n",
      "activation_26 (Activation)   (None, 10)                0         \n",
      "=================================================================\n",
      "Total params: 1,250,858\n",
      "Trainable params: 1,250,858\n",
      "Non-trainable params: 0\n",
      "_________________________________________________________________\n",
      "Train on 50000 samples, validate on 10000 samples\n",
      "Epoch 1/30\n",
      "50000/50000 [==============================] - 387s 8ms/step - loss: 2.0900 - acc: 0.2193 - val_loss: 1.7854 - val_acc: 0.3654\n",
      "Epoch 2/30\n",
      "50000/50000 [==============================] - 380s 8ms/step - loss: 1.7281 - acc: 0.3647 - val_loss: 1.5845 - val_acc: 0.4242\n",
      "Epoch 3/30\n",
      "50000/50000 [==============================] - 383s 8ms/step - loss: 1.5484 - acc: 0.4376 - val_loss: 1.3989 - val_acc: 0.4945\n",
      "Epoch 4/30\n",
      "50000/50000 [==============================] - 384s 8ms/step - loss: 1.4253 - acc: 0.4859 - val_loss: 1.5768 - val_acc: 0.4551\n",
      "Epoch 5/30\n",
      "50000/50000 [==============================] - 384s 8ms/step - loss: 1.3441 - acc: 0.5172 - val_loss: 1.2618 - val_acc: 0.5512\n",
      "Epoch 6/30\n",
      "50000/50000 [==============================] - 383s 8ms/step - loss: 1.2791 - acc: 0.5415 - val_loss: 1.1639 - val_acc: 0.5934\n",
      "Epoch 7/30\n",
      "50000/50000 [==============================] - 382s 8ms/step - loss: 1.2227 - acc: 0.5650 - val_loss: 1.1858 - val_acc: 0.5797\n",
      "Epoch 8/30\n",
      "50000/50000 [==============================] - 381s 8ms/step - loss: 1.1714 - acc: 0.5835 - val_loss: 1.0726 - val_acc: 0.6225\n",
      "Epoch 9/30\n",
      "50000/50000 [==============================] - 381s 8ms/step - loss: 1.1184 - acc: 0.6042 - val_loss: 1.0544 - val_acc: 0.6298\n",
      "Epoch 10/30\n",
      "50000/50000 [==============================] - 384s 8ms/step - loss: 1.0738 - acc: 0.6213 - val_loss: 1.0334 - val_acc: 0.6312\n",
      "Epoch 11/30\n",
      "50000/50000 [==============================] - 384s 8ms/step - loss: 1.0346 - acc: 0.6346 - val_loss: 0.9613 - val_acc: 0.6699\n",
      "Epoch 12/30\n",
      "50000/50000 [==============================] - 380s 8ms/step - loss: 0.9972 - acc: 0.6476 - val_loss: 0.9266 - val_acc: 0.6805\n",
      "Epoch 13/30\n",
      "50000/50000 [==============================] - 381s 8ms/step - loss: 0.9668 - acc: 0.6590 - val_loss: 0.8877 - val_acc: 0.6890\n",
      "Epoch 14/30\n",
      "50000/50000 [==============================] - 383s 8ms/step - loss: 0.9342 - acc: 0.6692 - val_loss: 0.8591 - val_acc: 0.6989\n",
      "Epoch 15/30\n",
      "50000/50000 [==============================] - 384s 8ms/step - loss: 0.9083 - acc: 0.6787 - val_loss: 0.8445 - val_acc: 0.7083\n",
      "Epoch 16/30\n",
      "50000/50000 [==============================] - 380s 8ms/step - loss: 0.8818 - acc: 0.6897 - val_loss: 0.8329 - val_acc: 0.7076\n",
      "Epoch 17/30\n",
      "50000/50000 [==============================] - 381s 8ms/step - loss: 0.8542 - acc: 0.6962 - val_loss: 0.8983 - val_acc: 0.6854\n",
      "Epoch 18/30\n",
      "50000/50000 [==============================] - 380s 8ms/step - loss: 0.8337 - acc: 0.7059 - val_loss: 0.7812 - val_acc: 0.7290\n",
      "Epoch 19/30\n",
      "50000/50000 [==============================] - 383s 8ms/step - loss: 0.8094 - acc: 0.7149 - val_loss: 0.7867 - val_acc: 0.7284\n",
      "Epoch 20/30\n",
      "50000/50000 [==============================] - 383s 8ms/step - loss: 0.7867 - acc: 0.7215 - val_loss: 0.7637 - val_acc: 0.7369\n",
      "Epoch 21/30\n",
      "50000/50000 [==============================] - 382s 8ms/step - loss: 0.7665 - acc: 0.7311 - val_loss: 0.7540 - val_acc: 0.7400\n",
      "Epoch 22/30\n",
      "50000/50000 [==============================] - 381s 8ms/step - loss: 0.7502 - acc: 0.7349 - val_loss: 0.7394 - val_acc: 0.7458\n",
      "Epoch 23/30\n",
      "50000/50000 [==============================] - 381s 8ms/step - loss: 0.7310 - acc: 0.7422 - val_loss: 0.7146 - val_acc: 0.7523\n",
      "Epoch 24/30\n",
      "50000/50000 [==============================] - 381s 8ms/step - loss: 0.7176 - acc: 0.7483 - val_loss: 0.7132 - val_acc: 0.7535\n",
      "Epoch 25/30\n",
      "50000/50000 [==============================] - 380s 8ms/step - loss: 0.6959 - acc: 0.7536 - val_loss: 0.7114 - val_acc: 0.7544\n",
      "Epoch 26/30\n",
      "50000/50000 [==============================] - 380s 8ms/step - loss: 0.6833 - acc: 0.7585 - val_loss: 0.6932 - val_acc: 0.7635\n",
      "Epoch 27/30\n",
      "50000/50000 [==============================] - 383s 8ms/step - loss: 0.6651 - acc: 0.7655 - val_loss: 0.6903 - val_acc: 0.7612\n",
      "Epoch 28/30\n",
      "50000/50000 [==============================] - 383s 8ms/step - loss: 0.6534 - acc: 0.7690 - val_loss: 0.7661 - val_acc: 0.7405\n",
      "Epoch 29/30\n",
      "50000/50000 [==============================] - 383s 8ms/step - loss: 0.6428 - acc: 0.7723 - val_loss: 0.6629 - val_acc: 0.7704\n",
      "Epoch 30/30\n",
      "50000/50000 [==============================] - 382s 8ms/step - loss: 0.6250 - acc: 0.7780 - val_loss: 0.6469 - val_acc: 0.7781\n"
     ]
    }
   ],
   "source": [
    "from keras.models import Sequential\n",
    "from keras.layers import Conv2D, MaxPooling2D\n",
    "from keras.layers import Dense, Activation, Dropout, Flatten\n",
    "from keras.callbacks import EarlyStopping\n",
    "from keras import backend as K\n",
    "\n",
    "if K.backend() == 'tensorflow':\n",
    "    K.set_image_dim_ordering(\"th\")\n",
    "\n",
    "model = Sequential()\n",
    "model.add(Conv2D(IMG_DIM, (3, 3), padding='same', input_shape=X_train_nn.shape[1:]))\n",
    "model.add(Activation('relu'))\n",
    "model.add(Conv2D(IMG_DIM, (3, 3)))\n",
    "model.add(Activation('relu'))\n",
    "model.add(MaxPooling2D(pool_size=(2, 2)))\n",
    "model.add(Dropout(0.25))\n",
    "\n",
    "model.add(Conv2D(IMG_DIM * 2, (3, 3), padding='same'))\n",
    "model.add(Activation('relu'))\n",
    "model.add(Conv2D(IMG_DIM * 2, (3, 3)))\n",
    "model.add(Activation('relu'))\n",
    "model.add(MaxPooling2D(pool_size=(2, 2)))\n",
    "model.add(Dropout(0.25))\n",
    "\n",
    "model.add(Flatten())\n",
    "model.add(Dense(IMG_DIM * 16))\n",
    "model.add(Activation('relu'))\n",
    "model.add(Dropout(0.5))\n",
    "model.add(Dense(NUM_CLASSES))\n",
    "model.add(Activation('softmax'))\n",
    "\n",
    "model.compile(loss='categorical_crossentropy',\n",
    "              optimizer='sgd',\n",
    "              metrics=['accuracy']\n",
    "              )\n",
    "\n",
    "model.summary()\n",
    "\n",
    "early_stopping_monitor = EarlyStopping(patience=PATIENCE)\n",
    "\n",
    "cnn = model.fit(X_train_nn, y_train_nn, validation_data=(X_test_nn, y_test_nn),\n",
    "               batch_size=BATCH_SIZE, epochs=EPOCHS, callbacks=[early_stopping_monitor], shuffle=True)"
   ]
  },
  {
   "cell_type": "markdown",
   "metadata": {},
   "source": [
    "## Model Evaluation"
   ]
  },
  {
   "cell_type": "markdown",
   "metadata": {},
   "source": [
    "Let's plot the validation accuracy over epochs:"
   ]
  },
  {
   "cell_type": "code",
   "execution_count": 35,
   "metadata": {},
   "outputs": [
    {
     "data": {
      "text/plain": [
       "Text(0.5,1,'Validation Accuracy')"
      ]
     },
     "execution_count": 35,
     "metadata": {},
     "output_type": "execute_result"
    },
    {
     "data": {
      "image/png": "[encoded data removed]",
      "text/plain": [
       "<matplotlib.figure.Figure at 0x125a79748>"
      ]
     },
     "metadata": {},
     "output_type": "display_data"
    }
   ],
   "source": [
    "plt.figure(0)\n",
    "plt.plot(cnn.history['val_acc'],'g')\n",
    "plt.xlabel(\"Num of Epochs\")\n",
    "plt.ylabel(\"Validation Accuracy\")\n",
    "plt.title(\"Validation Accuracy\")"
   ]
  },
  {
   "cell_type": "markdown",
   "metadata": {},
   "source": [
    "## Conclusion"
   ]
  },
  {
   "cell_type": "markdown",
   "metadata": {},
   "source": [
    "We see that the best performing conventional classification machine learning algorithm, Random Forest, produced a mean test accuracy of 0.3588. Our conventional neural network algorithm produced a test accuracy score of 0.7781. This leads us to believe that using convolutional neural networks is the better choice for image recognition applications. It is noted that accuracy does not tell the whole story: taking a look at the classification score and the f1 scores for each class is important because it tells us how each class performs."
   ]
  }
 ],
 "metadata": {
  "kernelspec": {
   "display_name": "Python 3",
   "language": "python",
   "name": "python3"
  },
  "language_info": {
   "codemirror_mode": {
    "name": "ipython",
    "version": 3
   },
   "file_extension": ".py",
   "mimetype": "text/x-python",
   "name": "python",
   "nbconvert_exporter": "python",
   "pygments_lexer": "ipython3",
   "version": "3.6.2"
  }
 },
 "nbformat": 4,
 "nbformat_minor": 2
}
